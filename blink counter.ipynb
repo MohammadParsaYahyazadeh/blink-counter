{
 "cells": [
  {
   "cell_type": "code",
   "execution_count": 2,
   "id": "26c613d5-b0b4-48dc-90b6-3bcf492b8331",
   "metadata": {},
   "outputs": [],
   "source": [
    "import cv2\n",
    "import cvzone\n",
    "from cvzone.PlotModule import LivePlot\n",
    "from cvzone.FaceMeshModule import FaceMeshDetector"
   ]
  },
  {
   "cell_type": "code",
   "execution_count": 9,
   "id": "d45abcd7-5e9c-4c96-aa71-245a5455c099",
   "metadata": {},
   "outputs": [
    {
     "name": "stderr",
     "output_type": "stream",
     "text": [
      "C:\\Users\\parsa\\AppData\\Local\\Programs\\Python\\Python312\\Lib\\site-packages\\google\\protobuf\\symbol_database.py:55: UserWarning: SymbolDatabase.GetPrototype() is deprecated. Please use message_factory.GetMessageClass() instead. SymbolDatabase.GetPrototype() will be removed soon.\n",
      "  warnings.warn('SymbolDatabase.GetPrototype() is deprecated. Please '\n"
     ]
    }
   ],
   "source": [
    "# Initialize video capture\n",
    "cap = cv2.VideoCapture(0)  # Use integer for the camera index\n",
    "\n",
    "detector = FaceMeshDetector(maxFaces=1)\n",
    "plotY = LivePlot(640, 360, [20, 50], invert=True)\n",
    "\n",
    "idList = [22, 23, 24, 26, 110, 157, 158, 159, 160, 161, 130, 243]\n",
    "ratioList = []\n",
    "blinkCounter = 0\n",
    "counter = 0\n",
    "color = (255, 0, 255)\n",
    "\n",
    "while True:\n",
    "    # Reset video capture to loop video (if you were reading from a file)\n",
    "    if cap.get(cv2.CAP_PROP_POS_FRAMES) == cap.get(cv2.CAP_PROP_FRAME_COUNT):\n",
    "        cap.set(cv2.CAP_PROP_POS_FRAMES, 0)\n",
    "\n",
    "    success, img = cap.read()\n",
    "    if not success:\n",
    "        print(\"Failed to capture image\")\n",
    "        break\n",
    "\n",
    "    img, faces = detector.findFaceMesh(img, draw=False)\n",
    "\n",
    "    if faces:\n",
    "        face = faces[0]\n",
    "        for id in idList:\n",
    "            cv2.circle(img, face[id], 5, color, cv2.FILLED)\n",
    "\n",
    "        # Calculate distances\n",
    "        leftUp = face[159]\n",
    "        leftDown = face[23]\n",
    "        leftLeft = face[130]\n",
    "        leftRight = face[243]\n",
    "        lenghtVer, _ = detector.findDistance(leftUp, leftDown)\n",
    "        lenghtHor, _ = detector.findDistance(leftLeft, leftRight)\n",
    "\n",
    "        # Draw lines\n",
    "        cv2.line(img, leftUp, leftDown, (0, 200, 0), 3)\n",
    "        cv2.line(img, leftLeft, leftRight, (0, 200, 0), 3)\n",
    "\n",
    "        # Calculate blink ratio\n",
    "        ratio = int((lenghtVer / lenghtHor) * 100)\n",
    "        ratioList.append(ratio)\n",
    "        if len(ratioList) > 3:\n",
    "            ratioList.pop(0)\n",
    "        ratioAvg = sum(ratioList) / len(ratioList)\n",
    "\n",
    "        # Blink detection logic\n",
    "        if ratioAvg < 35 and counter == 0:\n",
    "            blinkCounter += 1\n",
    "            color = (0, 200, 0)\n",
    "            counter = 1\n",
    "        if counter != 0:\n",
    "            counter += 1\n",
    "            if counter > 10:\n",
    "                counter = 0\n",
    "                color = (255, 0, 255)\n",
    "\n",
    "        # Display blink count\n",
    "        cvzone.putTextRect(img, f'Blink Count: {blinkCounter}', (50, 100), colorR=color)\n",
    "\n",
    "        # Update plot\n",
    "        imgPlot = plotY.update(ratioAvg, color)\n",
    "        img = cv2.resize(img, (640, 360))\n",
    "        imgStack = cvzone.stackImages([img, imgPlot], 2, 1)\n",
    "    else:\n",
    "        img = cv2.resize(img, (640, 360))\n",
    "        imgStack = cvzone.stackImages([img, img], 2, 1)\n",
    "\n",
    "    # Display stacked images\n",
    "    cv2.imshow(\"Image\", imgStack)\n",
    "\n",
    "    if cv2.waitKey(25) & 0xFF == ord('q'):  # Quit with 'q'\n",
    "        break\n",
    "\n",
    "cap.release()\n",
    "cv2.destroyAllWindows()\n"
   ]
  },
  {
   "cell_type": "code",
   "execution_count": null,
   "id": "fd45f226-c56b-4e11-b4df-2620f5ec0df5",
   "metadata": {},
   "outputs": [],
   "source": []
  }
 ],
 "metadata": {
  "kernelspec": {
   "display_name": "Python 3 (ipykernel)",
   "language": "python",
   "name": "python3"
  },
  "language_info": {
   "codemirror_mode": {
    "name": "ipython",
    "version": 3
   },
   "file_extension": ".py",
   "mimetype": "text/x-python",
   "name": "python",
   "nbconvert_exporter": "python",
   "pygments_lexer": "ipython3",
   "version": "3.12.0"
  }
 },
 "nbformat": 4,
 "nbformat_minor": 5
}
